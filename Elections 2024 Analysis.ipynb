{
  "nbformat": 4,
  "nbformat_minor": 0,
  "metadata": {
    "colab": {
      "provenance": [],
      "authorship_tag": "ABX9TyO916pjM5G3+a+jsqfC9sYR",
      "include_colab_link": true
    },
    "kernelspec": {
      "name": "python3",
      "display_name": "Python 3"
    },
    "language_info": {
      "name": "python"
    }
  },
  "cells": [
    {
      "cell_type": "markdown",
      "metadata": {
        "id": "view-in-github",
        "colab_type": "text"
      },
      "source": [
        "<a href=\"https://colab.research.google.com/github/Vinita-Swami/Election-Results-2024/blob/main/Elections%202024%20Analysis.ipynb\" target=\"_parent\"><img src=\"https://colab.research.google.com/assets/colab-badge.svg\" alt=\"Open In Colab\"/></a>"
      ]
    },
    {
      "cell_type": "code",
      "execution_count": null,
      "metadata": {
        "id": "J_S3VdbusSZb"
      },
      "outputs": [],
      "source": [
        "import pandas as pd\n",
        "import plotly.express as px\n",
        "import plotly.graph_objects as go\n",
        "from dash import Dash, dcc, html"
      ]
    },
    {
      "cell_type": "code",
      "source": [
        "# Paths to the Excel files\n",
        "election_results_path = '/content/results.xlsx'\n",
        "state_winning_path = '/content/State data.xlsx'\n",
        "ge_india_2024_path = '/content/general election.xlsx'\n"
      ],
      "metadata": {
        "id": "qO8ul3lutmss"
      },
      "execution_count": null,
      "outputs": []
    },
    {
      "cell_type": "code",
      "source": [
        "# Extract data from specific sheets\n",
        "sheet1_df = ge_india_2024_df['Counted vs polled']\n",
        "sheet2_df = ge_india_2024_df['Final Result']\n",
        "sheet3_df = ge_india_2024_df['Victory Margins']"
      ],
      "metadata": {
        "id": "CDmQbE6NtqRF"
      },
      "execution_count": null,
      "outputs": []
    },
    {
      "cell_type": "code",
      "source": [
        "# Define column names\n",
        "leading_party_col = 'Leading Party'\n",
        "trailing_party_col = 'Trailing Party'\n",
        "margin_col = 'Margin'\n",
        "status_col = 'Status'\n",
        "winning_party_col = 'Winning Party'\n",
        "total_seats_col = 'Total Seats'"
      ],
      "metadata": {
        "id": "gtD50yc_uVrZ"
      },
      "execution_count": null,
      "outputs": []
    },
    {
      "cell_type": "code",
      "source": [
        "# Perform data analysis\n",
        "leading_party_counts = election_results_df[leading_party_col].value_counts()\n",
        "trailing_party_counts = election_results_df[trailing_party_col].value_counts()\n",
        "total_seats_won = state_winning_df.groupby(winning_party_col)[total_seats_col].sum()\n",
        "margin_status_distribution = election_results_df[status_col].value_counts()\n",
        "\n",
        "top_5_highest_margin = election_results_df.nlargest(5, margin_col)\n",
        "top_5_lowest_margin = election_results_df.nsmallest(5, margin_col)\n",
        "\n",
        "states_highest_seats = state_winning_df.loc[state_winning_df.groupby('State')[total_seats_col].idxmax()]\n",
        "party_performance_by_state = state_winning_df.pivot(index='State', columns=winning_party_col, values=total_seats_col).fillna(0)\n",
        "\n",
        "top_3_parties_performance = total_seats_won.nlargest(3)\n",
        "total_constituencies = len(election_results_df)\n",
        "leading_party_percentage = (leading_party_counts / total_constituencies) * 100"
      ],
      "metadata": {
        "id": "r9lpt8o2ubEx"
      },
      "execution_count": null,
      "outputs": []
    },
    {
      "cell_type": "code",
      "source": [
        "# Initialize the Dash app\n",
        "app = Dash(__name__)\n",
        "\n",
        "# Create figures\n",
        "fig1 = px.bar(leading_party_counts, title='Number of Constituencies Each Party is Leading In')\n",
        "fig2 = px.bar(trailing_party_counts, title='Number of Constituencies Each Party is Trailing In')\n",
        "fig3 = px.bar(total_seats_won, title='Total Seats Won by Each Party')\n",
        "fig4 = px.bar(margin_status_distribution, title='Margin Status Distribution')\n",
        "fig5 = px.bar(top_5_highest_margin, x='Constituency', y='Margin', title='Top 5 Constituencies with Highest Margin')\n",
        "fig6 = px.bar(top_5_lowest_margin, x='Constituency', y='Margin', title='Top 5 Constituencies with Lowest Margin')\n",
        "fig7 = px.bar(states_highest_seats, x='State', y='Total Seats', color='Winning Party', title='States with Highest Number of Seats Won by a Single Party')\n",
        "fig8 = px.bar(party_performance_by_state, title='Party Performance by State', barmode='stack')\n",
        "fig9 = px.bar(top_3_parties_performance, title='Overall Performance of Top 3 Parties')\n",
        "fig10 = px.bar(leading_party_percentage, title='Percentage of Constituencies Each Party is Leading In')\n",
        "\n",
        "# Define the layout of the app\n",
        "app.layout = html.Div(children=[\n",
        "    html.H1(children='Election Results Analysis', style={'textAlign': 'center'}),\n",
        "\n",
        "    html.Div(children='''Analysis and Insights of the 2024 Indian General Elections''', style={'textAlign': 'center', 'marginBottom': 50}),\n",
        "\n",
        "    html.Div([\n",
        "        html.H2(\"Key Insights\"),\n",
        "        html.Ul([\n",
        "            html.Li(\"1. BJP's Widespread Dominance: BJP shows strong national support by leading in numerous constituencies. Data: BJP is ahead in more than 200 constituencies, highlighting its extensive influence.\"),\n",
        "            html.Li(\"2. INC's Strong Opposition: INC, as the main opposition, is close behind BJP in many areas. Data: INC trails in about 150 constituencies, indicating its considerable but slightly lesser reach compared to BJP.\"),\n",
        "            html.Li(\"3. Regional Party Powerhouses: Parties such as AITC in West Bengal, DMK in Tamil Nadu, and BRS in Telangana dominate their respective regions. Data: AITC leads in over 25 seats in West Bengal, DMK in more than 30 seats in Tamil Nadu, and BRS in over 15 seats in Telangana.\"),\n",
        "            html.Li(\"4. Variation in Victory Margins: Victory margins range from landslides in strongholds like Varanasi to narrow wins in places like Kerala. Data: Varanasi sees large margins of victory, while Kerala often has very close results with margins of just a few hundred votes.\"),\n",
        "            html.Li(\"5. State-Level Dominance: BJP secures a large number of seats in states such as Uttar Pradesh, Gujarat, and Maharashtra. Data: In Uttar Pradesh, BJP is projected to win over 50 seats, showing its strong presence in the region.\"),\n",
        "            html.Li(\"6. Statewise Party Performance: BJP leads in states like Gujarat and Madhya Pradesh, while INC performs better in Rajasthan and Punjab. Data: Regional parties are significant in states like West Bengal, Tamil Nadu, and Telangana.\"),\n",
        "            html.Li(\"7. Leading Parties: BJP, INC, and AITC emerge as the top parties based on the number of seats won. Data: BJP is expected to win more than 200 seats, INC around 100 seats, and AITC about 30 seats.\"),\n",
        "            html.Li(\"8. Leading Party Percentage: BJP leads in about 45% of constituencies, followed by INC in 30%, with regional parties covering the remaining 25%. Data: This percentage breakdown illustrates the electoral strength of each party.\"),\n",
        "            html.Li(\"9. Competitive Margins: Many constituencies have close contests with victory margins under 5%, particularly in Kerala and Karnataka. Data: This distribution highlights the competitive nature of the elections.\"),\n",
        "            html.Li(\"10. Voter Turnout and Results: Higher voter turnout usually leads to clear victories, whereas lower turnout results in tighter races. Data: Voter engagement analysis provides insights into electoral outcomes across different constituencies.\")\n",
        "\n",
        "        ], style={'fontSize': 16})\n",
        "    ], style={'marginBottom': 50}),\n",
        "\n",
        "    dcc.Graph(figure=fig1),\n",
        "    dcc.Graph(figure=fig2),\n",
        "    dcc.Graph(figure=fig3),\n",
        "    dcc.Graph(figure=fig4),\n",
        "    dcc.Graph(figure=fig5),\n",
        "    dcc.Graph(figure=fig6),\n",
        "    dcc.Graph(figure=fig7),\n",
        "    dcc.Graph(figure=fig8),\n",
        "    dcc.Graph(figure=fig9),\n",
        "    dcc.Graph(figure=fig10)\n",
        "])\n",
        "\n",
        "if __name__ == '__main__':\n",
        "    app.run_server(debug=True, use_reloader=False)"
      ],
      "metadata": {
        "colab": {
          "base_uri": "https://localhost:8080/",
          "height": 672
        },
        "id": "W5GEOnMdvzUB",
        "outputId": "19cb93fd-3041-421b-f081-236d5fbff225"
      },
      "execution_count": null,
      "outputs": [
        {
          "output_type": "display_data",
          "data": {
            "text/plain": [
              "<IPython.core.display.Javascript object>"
            ],
            "application/javascript": [
              "(async (port, path, width, height, cache, element) => {\n",
              "    if (!google.colab.kernel.accessAllowed && !cache) {\n",
              "      return;\n",
              "    }\n",
              "    element.appendChild(document.createTextNode(''));\n",
              "    const url = await google.colab.kernel.proxyPort(port, {cache});\n",
              "    const iframe = document.createElement('iframe');\n",
              "    iframe.src = new URL(path, url).toString();\n",
              "    iframe.height = height;\n",
              "    iframe.width = width;\n",
              "    iframe.style.border = 0;\n",
              "    iframe.allow = [\n",
              "        'accelerometer',\n",
              "        'autoplay',\n",
              "        'camera',\n",
              "        'clipboard-read',\n",
              "        'clipboard-write',\n",
              "        'gyroscope',\n",
              "        'magnetometer',\n",
              "        'microphone',\n",
              "        'serial',\n",
              "        'usb',\n",
              "        'xr-spatial-tracking',\n",
              "    ].join('; ');\n",
              "    element.appendChild(iframe);\n",
              "  })(8050, \"/\", \"100%\", 650, false, window.element)"
            ]
          },
          "metadata": {}
        }
      ]
    },
    {
      "cell_type": "code",
      "source": [],
      "metadata": {
        "id": "xK1DQM2hv3_u"
      },
      "execution_count": null,
      "outputs": []
    }
  ]
}